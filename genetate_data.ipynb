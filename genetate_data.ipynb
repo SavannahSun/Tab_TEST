{
 "cells": [
  {
   "cell_type": "code",
   "execution_count": null,
   "metadata": {},
   "outputs": [],
   "source": [
    "import torch\n",
    "import numpy as np\n",
    "from sklearn.datasets import load_breast_cancer\n",
    "from sklearn.model_selection import train_test_split\n",
    "from tabpfn_extensions import TabPFNClassifier, TabPFNRegressor, unsupervised\n",
    "\n",
    "def generate_tabpfn_style_data(n_samples=3000, feature_indices=[0, 1], temp=1.0, seed=42):\n",
    "    # 加载原始数据集（可替换为任意有监督数据）\n",
    "    df = load_breast_cancer(return_X_y=False)\n",
    "    X, y = df[\"data\"], df[\"target\"]\n",
    "    attribute_names = df[\"feature_names\"]\n",
    "\n",
    "    # 训练集划分（用于提取基础数据分布）\n",
    "    X_train, _, y_train, _ = train_test_split(\n",
    "        X, y, test_size=0.5, random_state=seed\n",
    "    )\n",
    "\n",
    "    # 初始化 TabPFN 模型组件\n",
    "    clf = TabPFNClassifier(n_estimators=3)\n",
    "    reg = TabPFNRegressor(n_estimators=3)\n",
    "    model_unsupervised = unsupervised.TabPFNUnsupervisedModel(\n",
    "        tabpfn_clf=clf,\n",
    "        tabpfn_reg=reg,\n",
    "    )\n",
    "\n",
    "    # 设置 synthetic data 生成器\n",
    "    exp_synthetic = unsupervised.experiments.GenerateSyntheticDataExperiment(\n",
    "        task_type=\"unsupervised\",\n",
    "    )\n",
    "\n",
    "    # 转换为 PyTorch tensor\n",
    "    X_tensor = torch.tensor(X_train, dtype=torch.float32)\n",
    "    y_tensor = torch.tensor(y_train, dtype=torch.float32)\n",
    "\n",
    "    # 执行生成过程\n",
    "    results = exp_synthetic.run(\n",
    "        tabpfn=model_unsupervised,\n",
    "        X=X_tensor,\n",
    "        y=y_tensor,\n",
    "        attribute_names=attribute_names,\n",
    "        temp=temp,\n",
    "        n_samples=n_samples,\n",
    "        indices=feature_indices,\n",
    "    )\n",
    "\n",
    "    # 返回生成的数据\n",
    "    X_synthetic = results[\"X\"].numpy()\n",
    "    y_synthetic = results[\"y\"].numpy() if \"y\" in results else None\n",
    "    return X_synthetic, y_synthetic"
   ]
  }
 ],
 "metadata": {
  "kernelspec": {
   "display_name": "tabpfn",
   "language": "python",
   "name": "python3"
  },
  "language_info": {
   "name": "python",
   "version": "3.12.9"
  }
 },
 "nbformat": 4,
 "nbformat_minor": 2
}
