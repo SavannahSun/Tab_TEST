{
 "cells": [
  {
   "cell_type": "code",
   "execution_count": 1,
   "id": "42c911b5",
   "metadata": {},
   "outputs": [
    {
     "name": "stdout",
     "output_type": "stream",
     "text": [
      "[[ 1.43022828 -0.82901025  0.23412048]\n",
      " [-1.54922254  0.20158991  0.43450656]\n",
      " [-0.15043671  1.21223657  1.55879118]\n",
      " [-0.64106057 -1.96934269 -0.11769164]\n",
      " [-1.21210867  0.10824211  0.85231027]]\n"
     ]
    }
   ],
   "source": [
    "import numpy as np\n",
    "K = 5  # Number of prototypes\n",
    "d = 3  # Dimensionality of each prototype\n",
    "prototypes = np.random.randn(K, d)\n",
    "print(prototypes)"
   ]
  },
  {
   "cell_type": "code",
   "execution_count": null,
   "id": "60925fcc",
   "metadata": {},
   "outputs": [
    {
     "name": "stdout",
     "output_type": "stream",
     "text": [
      "Generator(PCG64)\n"
     ]
    }
   ],
   "source": [
    "rng = np.random.default_rng(42)\n"
   ]
  },
  {
   "cell_type": "code",
   "execution_count": 2,
   "id": "997fd26f",
   "metadata": {},
   "outputs": [
    {
     "name": "stdout",
     "output_type": "stream",
     "text": [
      "父节点 x1:\n",
      " [ 0.27398496  1.71626235 -1.16413865  0.35196854  0.97618944 -0.89387484\n",
      " -0.88856678  0.45520962  0.95093451 -0.7790333 ]\n",
      "父节点 x2:\n",
      " [-0.93365601  0.45020157 -1.80694458 -1.37865652  1.5244307   1.76994311\n",
      "  1.04239972  1.01008812 -0.5590318   0.48002944]\n",
      "当前节点 x3:\n",
      " [ 1.47028236  1.47028236 -0.6247744   1.47028236  1.47028236 -0.6247744\n",
      " -0.6247744   1.47028236  1.47028236 -0.6247744 ]\n"
     ]
    }
   ],
   "source": [
    "import numpy as np\n",
    "\n",
    "def decision_tree_mapping(x_parents, random_state=None):\n",
    "    \"\"\"\n",
    "    用随机决策树实现 node value 映射\n",
    "    参数:\n",
    "        x_parents: np.array of shape (n_samples, n_features) — 父节点的输入值\n",
    "    返回:\n",
    "        x_current: np.array of shape (n_samples,) — 当前节点的值\n",
    "    \"\"\"\n",
    "    rng = np.random.default_rng(random_state)\n",
    "    n_samples, n_features = x_parents.shape\n",
    "    \n",
    "    # 随机选择要分裂的特征\n",
    "    feature_idx = rng.choice(n_features)\n",
    "    \n",
    "    # 设定一个随机阈值（基于该特征的分布）\n",
    "    feature_values = x_parents[:, feature_idx]\n",
    "    threshold = rng.uniform(np.min(feature_values), np.max(feature_values))\n",
    "\n",
    "    # 决策输出值（叶子节点值）\n",
    "    output_low = rng.normal(loc=-1.0, scale=0.5)   # 如果小于等于阈值\n",
    "    output_high = rng.normal(loc=1.0, scale=0.5)   # 如果大于阈值\n",
    "\n",
    "    # 根据决策分配输出\n",
    "    decision_mask = feature_values > threshold\n",
    "    x_current = np.where(decision_mask, output_high, output_low)\n",
    "\n",
    "    return x_current\n",
    "\n",
    "# 假设 parent nodes 是 x1 和 x2\n",
    "n_samples = 10\n",
    "x1 = np.random.normal(0, 1, size=n_samples)\n",
    "x2 = np.random.uniform(-2, 2, size=n_samples)\n",
    "\n",
    "# 合并成父节点输入\n",
    "X_parents = np.stack([x1, x2], axis=1)\n",
    "\n",
    "# 生成当前节点的值 x3\n",
    "x3 = decision_tree_mapping(X_parents, random_state=42)\n",
    "\n",
    "print(\"父节点 x1:\\n\", x1)\n",
    "print(\"父节点 x2:\\n\", x2)\n",
    "print(\"当前节点 x3:\\n\", x3)"
   ]
  },
  {
   "cell_type": "code",
   "execution_count": null,
   "id": "56e2e2f3",
   "metadata": {},
   "outputs": [],
   "source": []
  }
 ],
 "metadata": {
  "kernelspec": {
   "display_name": "tabpfn",
   "language": "python",
   "name": "python3"
  },
  "language_info": {
   "codemirror_mode": {
    "name": "ipython",
    "version": 3
   },
   "file_extension": ".py",
   "mimetype": "text/x-python",
   "name": "python",
   "nbconvert_exporter": "python",
   "pygments_lexer": "ipython3",
   "version": "3.12.9"
  }
 },
 "nbformat": 4,
 "nbformat_minor": 5
}
